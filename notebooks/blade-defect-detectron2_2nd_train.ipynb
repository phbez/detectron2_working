{
 "cells": [
  {
   "cell_type": "markdown",
   "metadata": {},
   "source": [
    "Install Detectron2"
   ]
  },
  {
   "cell_type": "markdown",
   "metadata": {},
   "source": [
    "Run a pre-trained detectron2 model\n",
    "\n",
    "We first download an image from the COCO dataset:"
   ]
  },
  {
   "cell_type": "code",
   "execution_count": 6,
   "metadata": {},
   "outputs": [
    {
     "name": "stdout",
     "output_type": "stream",
     "text": [
      "/home/pauloarbu/phpy/bin/python\n"
     ]
    }
   ],
   "source": [
    "#---> pip install torch torchvision torchaudio\n",
    "#---> python -m pip install pyyaml==5.1\n",
    "\n",
    "import sys, os, distutils.core\n",
    "print(sys.executable)\n",
    "sys.path.insert(0, os.path.abspath('./detectron2'))\n",
    "\n",
    "# Properly install detectron2. (Please do not install twice in both ways)\n",
    "#---> python -m pip install 'git+https://github.com/facebookresearch/detectron2.git'"
   ]
  },
  {
   "cell_type": "code",
   "execution_count": 9,
   "metadata": {},
   "outputs": [
    {
     "name": "stdout",
     "output_type": "stream",
     "text": [
      "PyTorch version: 2.6.0+cu124\n",
      "CUDA available: True\n",
      "CUDA version: 12.4\n",
      "GPU device: NVIDIA GeForce RTX 4060\n",
      "torch:  2.6 ; cuda:  cu124\n",
      "detectron2 version: 0.6\n"
     ]
    }
   ],
   "source": [
    "import torch, detectron2\n",
    "\n",
    "print(f\"PyTorch version: {torch.__version__}\")\n",
    "print(f\"CUDA available: {torch.cuda.is_available()}\")\n",
    "print(f\"CUDA version: {torch.version.cuda}\")\n",
    "# Test CUDA device\n",
    "if torch.cuda.is_available():\n",
    "    device = torch.device(\"cuda\")\n",
    "    print(f\"GPU device: {torch.cuda.get_device_name(0)}\")\n",
    "\n",
    "\n",
    "#---> nvcc --version\n",
    "TORCH_VERSION = \".\".join(torch.__version__.split(\".\")[:2])\n",
    "CUDA_VERSION = torch.__version__.split(\"+\")[-1]\n",
    "print(\"torch: \", TORCH_VERSION, \"; cuda: \", CUDA_VERSION)\n",
    "print(f\"detectron2 version: {detectron2.__version__}\")"
   ]
  },
  {
   "cell_type": "markdown",
   "metadata": {},
   "source": [
    "Basic setup"
   ]
  },
  {
   "cell_type": "code",
   "execution_count": 12,
   "metadata": {},
   "outputs": [
    {
     "name": "stdout",
     "output_type": "stream",
     "text": [
      "OpenCV version: 4.11.0\n"
     ]
    }
   ],
   "source": [
    "# Setup detectron2 logger\n",
    "import detectron2\n",
    "import matplotlib.pyplot as plt\n",
    "from detectron2.utils.logger import setup_logger\n",
    "setup_logger()\n",
    "\n",
    "# import some common libraries\n",
    "import numpy as np\n",
    "import os, json, cv2, random\n",
    "\n",
    "\n",
    "# import some common detectron2 utilities\n",
    "from detectron2 import model_zoo\n",
    "from detectron2.engine import DefaultPredictor\n",
    "from detectron2.config import get_cfg\n",
    "from detectron2.utils.visualizer import Visualizer\n",
    "from detectron2.data import MetadataCatalog, DatasetCatalog\n",
    "\n",
    "\n",
    "print(f\"OpenCV version: {cv2.__version__}\")\n"
   ]
  },
  {
   "cell_type": "markdown",
   "metadata": {},
   "source": [
    "Train on a custom dataset"
   ]
  },
  {
   "cell_type": "markdown",
   "metadata": {},
   "source": [
    "In this section, we train an existing detectron2 model on a custom dataset in a new format.\n",
    "\n",
    "We use the blade defect segmentation dataset which only has one class: defect. We'll train a defect segmentation model from an existing model pre-trained on COCO dataset, available in detectron2's model zoo.\n"
   ]
  },
  {
   "cell_type": "markdown",
   "metadata": {},
   "source": [
    "------- BEGINNING OF MODEL TRAINING: SEGMENT AND LOCATE BLADE DEFECTS ----------"
   ]
  },
  {
   "cell_type": "markdown",
   "metadata": {},
   "source": [
    "1. Dataset Loading Function"
   ]
  },
  {
   "cell_type": "code",
   "execution_count": null,
   "metadata": {},
   "outputs": [],
   "source": [
    "def get_blade_defect_dicts(directory, annotation_file):\n",
    "    import json\n",
    "    import os\n",
    "    from detectron2.structures import BoxMode\n",
    "    \n",
    "    json_file = os.path.join(directory, annotation_file)\n",
    "    with open(json_file) as f:\n",
    "        imgs_anns = json.load(f)\n",
    "    \n",
    "    dataset_dicts = []\n",
    "    \n",
    "    # Adjust this part based on your annotation format\n",
    "    # For VIA format (similar to balloon dataset):\n",
    "    for idx, v in enumerate(imgs_anns.values()):\n",
    "        record = {}\n",
    "        filename = os.path.join(directory, \"images\", v[\"filename\"])\n",
    "        height, width = cv2.imread(filename).shape[:2]\n",
    "        \n",
    "        record[\"file_name\"] = filename\n",
    "        record[\"image_id\"] = idx\n",
    "        record[\"height\"] = height\n",
    "        record[\"width\"] = width\n",
    "        \n",
    "        annos = v[\"regions\"]\n",
    "        objs = []\n",
    "        for _, anno in annos.items():\n",
    "            anno = anno[\"shape_attributes\"]\n",
    "            \n",
    "            # For polygon annotations\n",
    "            if \"all_points_x\" in anno:\n",
    "                px = anno[\"all_points_x\"]\n",
    "                py = anno[\"all_points_y\"]\n",
    "                poly = [(x + 0.5, y + 0.5) for x, y in zip(px, py)]\n",
    "                poly = [p for x in poly for p in x]\n",
    "                \n",
    "                # Get the defect type from region_attributes\n",
    "                # Adjust based on your annotation format\n",
    "                defect_type = 0  # Default to first class\n",
    "                if \"region_attributes\" in annos[_]:\n",
    "                    region_attrs = annos[_][\"region_attributes\"]\n",
    "                    if \"defect_type\" in region_attrs:\n",
    "                        defect_type = DEFECT_CATEGORIES[region_attrs[\"defect_type\"]]\n",
    "                \n",
    "                obj = {\n",
    "                    \"bbox\": [np.min(px), np.min(py), np.max(px), np.max(py)],\n",
    "                    \"bbox_mode\": BoxMode.XYXY_ABS,\n",
    "                    \"segmentation\": [poly],\n",
    "                    \"category_id\": defect_type,\n",
    "                }\n",
    "                objs.append(obj)\n",
    "                \n",
    "        record[\"annotations\"] = objs\n",
    "        dataset_dicts.append(record)\n",
    "    return dataset_dicts"
   ]
  },
  {
   "cell_type": "markdown",
   "metadata": {},
   "source": [
    "2. Define Defect Categories"
   ]
  },
  {
   "cell_type": "code",
   "execution_count": null,
   "metadata": {},
   "outputs": [],
   "source": [
    "# Define your defect categories\n",
    "DEFECT_TYPES = [\"erosion\", \"crack\", \"delamination\", \"lightning_strike\"]  # Replace with your actual defect types\n",
    "DEFECT_CATEGORIES = {defect: i for i, defect in enumerate(DEFECT_TYPES)}"
   ]
  },
  {
   "cell_type": "markdown",
   "metadata": {},
   "source": [
    "3. Register Dataset"
   ]
  },
  {
   "cell_type": "code",
   "execution_count": null,
   "metadata": {},
   "outputs": [],
   "source": [
    "# Clear any existing registrations\n",
    "for d in [\"train\", \"val\"]:\n",
    "    dataset_name = f\"blade_defect_{d}\"\n",
    "    if dataset_name in DatasetCatalog:\n",
    "        DatasetCatalog.remove(dataset_name)\n",
    "\n",
    "# Paths to your dataset\n",
    "blade_defect_train_dir = \"./datasets/blade_defects/train\"\n",
    "blade_defect_train_json = \"annotations.json\"  # Update with your actual filename\n",
    "blade_defect_val_dir = \"./datasets/blade_defects/val\"\n",
    "blade_defect_val_json = \"annotations.json\"  # Update with your actual filename\n",
    "\n",
    "# Register with proper function references\n",
    "def get_blade_defect_train():\n",
    "    return get_blade_defect_dicts(blade_defect_train_dir, blade_defect_train_json)\n",
    "\n",
    "def get_blade_defect_val():\n",
    "    return get_blade_defect_dicts(blade_defect_val_dir, blade_defect_val_json)\n",
    "\n",
    "DatasetCatalog.register(\"blade_defect_train\", get_blade_defect_train)\n",
    "DatasetCatalog.register(\"blade_defect_val\", get_blade_defect_val)\n",
    "MetadataCatalog.get(\"blade_defect_train\").set(thing_classes=DEFECT_TYPES)\n",
    "MetadataCatalog.get(\"blade_defect_val\").set(thing_classes=DEFECT_TYPES)"
   ]
  },
  {
   "cell_type": "markdown",
   "metadata": {},
   "source": [
    "4. Visualize Dataset (Optional)"
   ]
  },
  {
   "cell_type": "code",
   "execution_count": null,
   "metadata": {},
   "outputs": [],
   "source": [
    "import random\n",
    "from detectron2.utils.visualizer import Visualizer\n",
    "\n",
    "# Visualize training data\n",
    "blade_metadata = MetadataCatalog.get(\"blade_defect_train\")\n",
    "dataset_dicts = get_blade_defect_train()\n",
    "for d in random.sample(dataset_dicts, 3):\n",
    "    img = cv2.imread(d[\"file_name\"])\n",
    "    visualizer = Visualizer(img[:, :, ::-1], metadata=blade_metadata, scale=0.5)\n",
    "    out = visualizer.draw_dataset_dict(d)\n",
    "    plt.figure(figsize=(12, 12))\n",
    "    plt.imshow(out.get_image()[:, :, ::-1])\n",
    "    plt.show()"
   ]
  },
  {
   "cell_type": "markdown",
   "metadata": {},
   "source": [
    "5. Configure and Train Model"
   ]
  },
  {
   "cell_type": "code",
   "execution_count": null,
   "metadata": {},
   "outputs": [],
   "source": [
    "from detectron2.engine import DefaultTrainer\n",
    "\n",
    "cfg = get_cfg()\n",
    "cfg.merge_from_file(model_zoo.get_config_file(\"COCO-InstanceSegmentation/mask_rcnn_R_50_FPN_3x.yaml\"))\n",
    "cfg.DATASETS.TRAIN = (\"blade_defect_train\",)\n",
    "cfg.DATASETS.TEST = (\"blade_defect_val\",)\n",
    "cfg.DATALOADER.NUM_WORKERS = 2\n",
    "cfg.MODEL.WEIGHTS = model_zoo.get_checkpoint_url(\"COCO-InstanceSegmentation/mask_rcnn_R_50_FPN_3x.yaml\")\n",
    "cfg.SOLVER.IMS_PER_BATCH = 2\n",
    "cfg.SOLVER.BASE_LR = 0.00025\n",
    "cfg.SOLVER.MAX_ITER = 5000  # Adjust based on dataset size\n",
    "cfg.SOLVER.STEPS = []  # Learning rate decay\n",
    "cfg.MODEL.ROI_HEADS.BATCH_SIZE_PER_IMAGE = 128\n",
    "cfg.MODEL.ROI_HEADS.NUM_CLASSES = len(DEFECT_TYPES)\n",
    "cfg.OUTPUT_DIR = \"./output/blade_defect_model\"\n",
    "\n",
    "os.makedirs(cfg.OUTPUT_DIR, exist_ok=True)\n",
    "trainer = DefaultTrainer(cfg) \n",
    "trainer.resume_or_load(resume=False)\n",
    "trainer.train()"
   ]
  },
  {
   "cell_type": "markdown",
   "metadata": {},
   "source": [
    "------- END OF MODEL TRAINING: SEGMENT AND LOCATE BLADE DEFECTS ----------"
   ]
  },
  {
   "cell_type": "markdown",
   "metadata": {},
   "source": [
    "Download and Register Ballon dataset (new)"
   ]
  },
  {
   "cell_type": "code",
   "execution_count": 25,
   "metadata": {},
   "outputs": [
    {
     "data": {
      "text/plain": [
       "namespace(name='balloon_val',\n",
       "          json_file='./datasets/balloon/val/via_region_data.json',\n",
       "          image_root='./datasets/balloon/val',\n",
       "          evaluator_type='coco',\n",
       "          thing_classes=['balloon'])"
      ]
     },
     "execution_count": 25,
     "metadata": {},
     "output_type": "execute_result"
    }
   ],
   "source": [
    "# Download the balloon dataset if you haven't already\n",
    "import os\n",
    "import urllib.request\n",
    "import zipfile\n",
    "\n",
    "# Check if the dataset directory exists\n",
    "if not os.path.exists(\"./datasets/balloon\"):\n",
    "    # Download the dataset\n",
    "    os.makedirs(\"./datasets\", exist_ok=True)\n",
    "    balloon_dataset_url = \"https://github.com/matterport/Mask_RCNN/releases/download/v2.1/balloon_dataset.zip\"\n",
    "    urllib.request.urlretrieve(balloon_dataset_url, \"./datasets/balloon_dataset.zip\")\n",
    "\n",
    "    # Extract the dataset\n",
    "    with zipfile.ZipFile(\"./datasets/balloon_dataset.zip\", 'r') as zip_ref:\n",
    "        zip_ref.extractall(\"./datasets\")\n",
    "\n",
    "# Register the dataset with a proper dataset mapper for VIA format\n",
    "# REMOVE THIS LINE: from detectron2.data.datasets.balloon import register_balloon_instances\n",
    "\n",
    "# Define the data paths\n",
    "balloon_train_dir = \"./datasets/balloon/train\"\n",
    "balloon_train_json = \"./datasets/balloon/train/via_region_data.json\"\n",
    "balloon_val_dir = \"./datasets/balloon/val\"\n",
    "balloon_val_json = \"./datasets/balloon/val/via_region_data.json\"\n",
    "\n",
    "# Define a get_balloon_dicts function with a fixed directory parameter\n",
    "def get_balloon_dicts(directory):\n",
    "    import json\n",
    "    import os\n",
    "    from detectron2.structures import BoxMode\n",
    "    \n",
    "    json_file = os.path.join(directory, \"via_region_data.json\")\n",
    "    with open(json_file) as f:\n",
    "        imgs_anns = json.load(f)\n",
    "    \n",
    "    dataset_dicts = []\n",
    "    for idx, v in enumerate(imgs_anns.values()):\n",
    "        record = {}\n",
    "        filename = os.path.join(directory, v[\"filename\"])\n",
    "        height, width = cv2.imread(filename).shape[:2]\n",
    "        \n",
    "        record[\"file_name\"] = filename\n",
    "        record[\"image_id\"] = idx\n",
    "        record[\"height\"] = height\n",
    "        record[\"width\"] = width\n",
    "        \n",
    "        annos = v[\"regions\"]\n",
    "        objs = []\n",
    "        for _, anno in annos.items():\n",
    "            anno = anno[\"shape_attributes\"]\n",
    "            px = anno[\"all_points_x\"]\n",
    "            py = anno[\"all_points_y\"]\n",
    "            poly = [(x + 0.5, y + 0.5) for x, y in zip(px, py)]\n",
    "            poly = [p for x in poly for p in x]\n",
    "            \n",
    "            obj = {\n",
    "                \"bbox\": [np.min(px), np.min(py), np.max(px), np.max(py)],\n",
    "                \"bbox_mode\": BoxMode.XYXY_ABS,\n",
    "                \"segmentation\": [poly],\n",
    "                \"category_id\": 0,\n",
    "            }\n",
    "            objs.append(obj)\n",
    "        record[\"annotations\"] = objs\n",
    "        dataset_dicts.append(record)\n",
    "    return dataset_dicts\n",
    "\n",
    "# Clear any existing registrations\n",
    "for d in [\"train\", \"val\"]:\n",
    "    dataset_name = f\"balloon_{d}\"\n",
    "    if dataset_name in DatasetCatalog:\n",
    "        DatasetCatalog.remove(dataset_name)\n",
    "\n",
    "# Register with proper function references - no lambda expressions\n",
    "def get_balloon_train():\n",
    "    return get_balloon_dicts(\"./datasets/balloon/train\")\n",
    "\n",
    "def get_balloon_val():\n",
    "    return get_balloon_dicts(\"./datasets/balloon/val\")\n",
    "\n",
    "DatasetCatalog.register(\"balloon_train\", get_balloon_train)\n",
    "DatasetCatalog.register(\"balloon_val\", get_balloon_val)\n",
    "MetadataCatalog.get(\"balloon_train\").set(thing_classes=[\"balloon\"])\n",
    "MetadataCatalog.get(\"balloon_val\").set(thing_classes=[\"balloon\"])"
   ]
  },
  {
   "cell_type": "code",
   "execution_count": 26,
   "metadata": {},
   "outputs": [
    {
     "name": "stdout",
     "output_type": "stream",
     "text": [
      "\u001b[32m[03/30 21:51:04 d2.engine.defaults]: \u001b[0mModel:\n",
      "GeneralizedRCNN(\n",
      "  (backbone): FPN(\n",
      "    (fpn_lateral2): Conv2d(256, 256, kernel_size=(1, 1), stride=(1, 1))\n",
      "    (fpn_output2): Conv2d(256, 256, kernel_size=(3, 3), stride=(1, 1), padding=(1, 1))\n",
      "    (fpn_lateral3): Conv2d(512, 256, kernel_size=(1, 1), stride=(1, 1))\n",
      "    (fpn_output3): Conv2d(256, 256, kernel_size=(3, 3), stride=(1, 1), padding=(1, 1))\n",
      "    (fpn_lateral4): Conv2d(1024, 256, kernel_size=(1, 1), stride=(1, 1))\n",
      "    (fpn_output4): Conv2d(256, 256, kernel_size=(3, 3), stride=(1, 1), padding=(1, 1))\n",
      "    (fpn_lateral5): Conv2d(2048, 256, kernel_size=(1, 1), stride=(1, 1))\n",
      "    (fpn_output5): Conv2d(256, 256, kernel_size=(3, 3), stride=(1, 1), padding=(1, 1))\n",
      "    (top_block): LastLevelMaxPool()\n",
      "    (bottom_up): ResNet(\n",
      "      (stem): BasicStem(\n",
      "        (conv1): Conv2d(\n",
      "          3, 64, kernel_size=(7, 7), stride=(2, 2), padding=(3, 3), bias=False\n",
      "          (norm): FrozenBatchNorm2d(num_features=64, eps=1e-05)\n",
      "        )\n",
      "      )\n",
      "      (res2): Sequential(\n",
      "        (0): BottleneckBlock(\n",
      "          (shortcut): Conv2d(\n",
      "            64, 256, kernel_size=(1, 1), stride=(1, 1), bias=False\n",
      "            (norm): FrozenBatchNorm2d(num_features=256, eps=1e-05)\n",
      "          )\n",
      "          (conv1): Conv2d(\n",
      "            64, 64, kernel_size=(1, 1), stride=(1, 1), bias=False\n",
      "            (norm): FrozenBatchNorm2d(num_features=64, eps=1e-05)\n",
      "          )\n",
      "          (conv2): Conv2d(\n",
      "            64, 64, kernel_size=(3, 3), stride=(1, 1), padding=(1, 1), bias=False\n",
      "            (norm): FrozenBatchNorm2d(num_features=64, eps=1e-05)\n",
      "          )\n",
      "          (conv3): Conv2d(\n",
      "            64, 256, kernel_size=(1, 1), stride=(1, 1), bias=False\n",
      "            (norm): FrozenBatchNorm2d(num_features=256, eps=1e-05)\n",
      "          )\n",
      "        )\n",
      "        (1): BottleneckBlock(\n",
      "          (conv1): Conv2d(\n",
      "            256, 64, kernel_size=(1, 1), stride=(1, 1), bias=False\n",
      "            (norm): FrozenBatchNorm2d(num_features=64, eps=1e-05)\n",
      "          )\n",
      "          (conv2): Conv2d(\n",
      "            64, 64, kernel_size=(3, 3), stride=(1, 1), padding=(1, 1), bias=False\n",
      "            (norm): FrozenBatchNorm2d(num_features=64, eps=1e-05)\n",
      "          )\n",
      "          (conv3): Conv2d(\n",
      "            64, 256, kernel_size=(1, 1), stride=(1, 1), bias=False\n",
      "            (norm): FrozenBatchNorm2d(num_features=256, eps=1e-05)\n",
      "          )\n",
      "        )\n",
      "        (2): BottleneckBlock(\n",
      "          (conv1): Conv2d(\n",
      "            256, 64, kernel_size=(1, 1), stride=(1, 1), bias=False\n",
      "            (norm): FrozenBatchNorm2d(num_features=64, eps=1e-05)\n",
      "          )\n",
      "          (conv2): Conv2d(\n",
      "            64, 64, kernel_size=(3, 3), stride=(1, 1), padding=(1, 1), bias=False\n",
      "            (norm): FrozenBatchNorm2d(num_features=64, eps=1e-05)\n",
      "          )\n",
      "          (conv3): Conv2d(\n",
      "            64, 256, kernel_size=(1, 1), stride=(1, 1), bias=False\n",
      "            (norm): FrozenBatchNorm2d(num_features=256, eps=1e-05)\n",
      "          )\n",
      "        )\n",
      "      )\n",
      "      (res3): Sequential(\n",
      "        (0): BottleneckBlock(\n",
      "          (shortcut): Conv2d(\n",
      "            256, 512, kernel_size=(1, 1), stride=(2, 2), bias=False\n",
      "            (norm): FrozenBatchNorm2d(num_features=512, eps=1e-05)\n",
      "          )\n",
      "          (conv1): Conv2d(\n",
      "            256, 128, kernel_size=(1, 1), stride=(2, 2), bias=False\n",
      "            (norm): FrozenBatchNorm2d(num_features=128, eps=1e-05)\n",
      "          )\n",
      "          (conv2): Conv2d(\n",
      "            128, 128, kernel_size=(3, 3), stride=(1, 1), padding=(1, 1), bias=False\n",
      "            (norm): FrozenBatchNorm2d(num_features=128, eps=1e-05)\n",
      "          )\n",
      "          (conv3): Conv2d(\n",
      "            128, 512, kernel_size=(1, 1), stride=(1, 1), bias=False\n",
      "            (norm): FrozenBatchNorm2d(num_features=512, eps=1e-05)\n",
      "          )\n",
      "        )\n",
      "        (1): BottleneckBlock(\n",
      "          (conv1): Conv2d(\n",
      "            512, 128, kernel_size=(1, 1), stride=(1, 1), bias=False\n",
      "            (norm): FrozenBatchNorm2d(num_features=128, eps=1e-05)\n",
      "          )\n",
      "          (conv2): Conv2d(\n",
      "            128, 128, kernel_size=(3, 3), stride=(1, 1), padding=(1, 1), bias=False\n",
      "            (norm): FrozenBatchNorm2d(num_features=128, eps=1e-05)\n",
      "          )\n",
      "          (conv3): Conv2d(\n",
      "            128, 512, kernel_size=(1, 1), stride=(1, 1), bias=False\n",
      "            (norm): FrozenBatchNorm2d(num_features=512, eps=1e-05)\n",
      "          )\n",
      "        )\n",
      "        (2): BottleneckBlock(\n",
      "          (conv1): Conv2d(\n",
      "            512, 128, kernel_size=(1, 1), stride=(1, 1), bias=False\n",
      "            (norm): FrozenBatchNorm2d(num_features=128, eps=1e-05)\n",
      "          )\n",
      "          (conv2): Conv2d(\n",
      "            128, 128, kernel_size=(3, 3), stride=(1, 1), padding=(1, 1), bias=False\n",
      "            (norm): FrozenBatchNorm2d(num_features=128, eps=1e-05)\n",
      "          )\n",
      "          (conv3): Conv2d(\n",
      "            128, 512, kernel_size=(1, 1), stride=(1, 1), bias=False\n",
      "            (norm): FrozenBatchNorm2d(num_features=512, eps=1e-05)\n",
      "          )\n",
      "        )\n",
      "        (3): BottleneckBlock(\n",
      "          (conv1): Conv2d(\n",
      "            512, 128, kernel_size=(1, 1), stride=(1, 1), bias=False\n",
      "            (norm): FrozenBatchNorm2d(num_features=128, eps=1e-05)\n",
      "          )\n",
      "          (conv2): Conv2d(\n",
      "            128, 128, kernel_size=(3, 3), stride=(1, 1), padding=(1, 1), bias=False\n",
      "            (norm): FrozenBatchNorm2d(num_features=128, eps=1e-05)\n",
      "          )\n",
      "          (conv3): Conv2d(\n",
      "            128, 512, kernel_size=(1, 1), stride=(1, 1), bias=False\n",
      "            (norm): FrozenBatchNorm2d(num_features=512, eps=1e-05)\n",
      "          )\n",
      "        )\n",
      "      )\n",
      "      (res4): Sequential(\n",
      "        (0): BottleneckBlock(\n",
      "          (shortcut): Conv2d(\n",
      "            512, 1024, kernel_size=(1, 1), stride=(2, 2), bias=False\n",
      "            (norm): FrozenBatchNorm2d(num_features=1024, eps=1e-05)\n",
      "          )\n",
      "          (conv1): Conv2d(\n",
      "            512, 256, kernel_size=(1, 1), stride=(2, 2), bias=False\n",
      "            (norm): FrozenBatchNorm2d(num_features=256, eps=1e-05)\n",
      "          )\n",
      "          (conv2): Conv2d(\n",
      "            256, 256, kernel_size=(3, 3), stride=(1, 1), padding=(1, 1), bias=False\n",
      "            (norm): FrozenBatchNorm2d(num_features=256, eps=1e-05)\n",
      "          )\n",
      "          (conv3): Conv2d(\n",
      "            256, 1024, kernel_size=(1, 1), stride=(1, 1), bias=False\n",
      "            (norm): FrozenBatchNorm2d(num_features=1024, eps=1e-05)\n",
      "          )\n",
      "        )\n",
      "        (1): BottleneckBlock(\n",
      "          (conv1): Conv2d(\n",
      "            1024, 256, kernel_size=(1, 1), stride=(1, 1), bias=False\n",
      "            (norm): FrozenBatchNorm2d(num_features=256, eps=1e-05)\n",
      "          )\n",
      "          (conv2): Conv2d(\n",
      "            256, 256, kernel_size=(3, 3), stride=(1, 1), padding=(1, 1), bias=False\n",
      "            (norm): FrozenBatchNorm2d(num_features=256, eps=1e-05)\n",
      "          )\n",
      "          (conv3): Conv2d(\n",
      "            256, 1024, kernel_size=(1, 1), stride=(1, 1), bias=False\n",
      "            (norm): FrozenBatchNorm2d(num_features=1024, eps=1e-05)\n",
      "          )\n",
      "        )\n",
      "        (2): BottleneckBlock(\n",
      "          (conv1): Conv2d(\n",
      "            1024, 256, kernel_size=(1, 1), stride=(1, 1), bias=False\n",
      "            (norm): FrozenBatchNorm2d(num_features=256, eps=1e-05)\n",
      "          )\n",
      "          (conv2): Conv2d(\n",
      "            256, 256, kernel_size=(3, 3), stride=(1, 1), padding=(1, 1), bias=False\n",
      "            (norm): FrozenBatchNorm2d(num_features=256, eps=1e-05)\n",
      "          )\n",
      "          (conv3): Conv2d(\n",
      "            256, 1024, kernel_size=(1, 1), stride=(1, 1), bias=False\n",
      "            (norm): FrozenBatchNorm2d(num_features=1024, eps=1e-05)\n",
      "          )\n",
      "        )\n",
      "        (3): BottleneckBlock(\n",
      "          (conv1): Conv2d(\n",
      "            1024, 256, kernel_size=(1, 1), stride=(1, 1), bias=False\n",
      "            (norm): FrozenBatchNorm2d(num_features=256, eps=1e-05)\n",
      "          )\n",
      "          (conv2): Conv2d(\n",
      "            256, 256, kernel_size=(3, 3), stride=(1, 1), padding=(1, 1), bias=False\n",
      "            (norm): FrozenBatchNorm2d(num_features=256, eps=1e-05)\n",
      "          )\n",
      "          (conv3): Conv2d(\n",
      "            256, 1024, kernel_size=(1, 1), stride=(1, 1), bias=False\n",
      "            (norm): FrozenBatchNorm2d(num_features=1024, eps=1e-05)\n",
      "          )\n",
      "        )\n",
      "        (4): BottleneckBlock(\n",
      "          (conv1): Conv2d(\n",
      "            1024, 256, kernel_size=(1, 1), stride=(1, 1), bias=False\n",
      "            (norm): FrozenBatchNorm2d(num_features=256, eps=1e-05)\n",
      "          )\n",
      "          (conv2): Conv2d(\n",
      "            256, 256, kernel_size=(3, 3), stride=(1, 1), padding=(1, 1), bias=False\n",
      "            (norm): FrozenBatchNorm2d(num_features=256, eps=1e-05)\n",
      "          )\n",
      "          (conv3): Conv2d(\n",
      "            256, 1024, kernel_size=(1, 1), stride=(1, 1), bias=False\n",
      "            (norm): FrozenBatchNorm2d(num_features=1024, eps=1e-05)\n",
      "          )\n",
      "        )\n",
      "        (5): BottleneckBlock(\n",
      "          (conv1): Conv2d(\n",
      "            1024, 256, kernel_size=(1, 1), stride=(1, 1), bias=False\n",
      "            (norm): FrozenBatchNorm2d(num_features=256, eps=1e-05)\n",
      "          )\n",
      "          (conv2): Conv2d(\n",
      "            256, 256, kernel_size=(3, 3), stride=(1, 1), padding=(1, 1), bias=False\n",
      "            (norm): FrozenBatchNorm2d(num_features=256, eps=1e-05)\n",
      "          )\n",
      "          (conv3): Conv2d(\n",
      "            256, 1024, kernel_size=(1, 1), stride=(1, 1), bias=False\n",
      "            (norm): FrozenBatchNorm2d(num_features=1024, eps=1e-05)\n",
      "          )\n",
      "        )\n",
      "      )\n",
      "      (res5): Sequential(\n",
      "        (0): BottleneckBlock(\n",
      "          (shortcut): Conv2d(\n",
      "            1024, 2048, kernel_size=(1, 1), stride=(2, 2), bias=False\n",
      "            (norm): FrozenBatchNorm2d(num_features=2048, eps=1e-05)\n",
      "          )\n",
      "          (conv1): Conv2d(\n",
      "            1024, 512, kernel_size=(1, 1), stride=(2, 2), bias=False\n",
      "            (norm): FrozenBatchNorm2d(num_features=512, eps=1e-05)\n",
      "          )\n",
      "          (conv2): Conv2d(\n",
      "            512, 512, kernel_size=(3, 3), stride=(1, 1), padding=(1, 1), bias=False\n",
      "            (norm): FrozenBatchNorm2d(num_features=512, eps=1e-05)\n",
      "          )\n",
      "          (conv3): Conv2d(\n",
      "            512, 2048, kernel_size=(1, 1), stride=(1, 1), bias=False\n",
      "            (norm): FrozenBatchNorm2d(num_features=2048, eps=1e-05)\n",
      "          )\n",
      "        )\n",
      "        (1): BottleneckBlock(\n",
      "          (conv1): Conv2d(\n",
      "            2048, 512, kernel_size=(1, 1), stride=(1, 1), bias=False\n",
      "            (norm): FrozenBatchNorm2d(num_features=512, eps=1e-05)\n",
      "          )\n",
      "          (conv2): Conv2d(\n",
      "            512, 512, kernel_size=(3, 3), stride=(1, 1), padding=(1, 1), bias=False\n",
      "            (norm): FrozenBatchNorm2d(num_features=512, eps=1e-05)\n",
      "          )\n",
      "          (conv3): Conv2d(\n",
      "            512, 2048, kernel_size=(1, 1), stride=(1, 1), bias=False\n",
      "            (norm): FrozenBatchNorm2d(num_features=2048, eps=1e-05)\n",
      "          )\n",
      "        )\n",
      "        (2): BottleneckBlock(\n",
      "          (conv1): Conv2d(\n",
      "            2048, 512, kernel_size=(1, 1), stride=(1, 1), bias=False\n",
      "            (norm): FrozenBatchNorm2d(num_features=512, eps=1e-05)\n",
      "          )\n",
      "          (conv2): Conv2d(\n",
      "            512, 512, kernel_size=(3, 3), stride=(1, 1), padding=(1, 1), bias=False\n",
      "            (norm): FrozenBatchNorm2d(num_features=512, eps=1e-05)\n",
      "          )\n",
      "          (conv3): Conv2d(\n",
      "            512, 2048, kernel_size=(1, 1), stride=(1, 1), bias=False\n",
      "            (norm): FrozenBatchNorm2d(num_features=2048, eps=1e-05)\n",
      "          )\n",
      "        )\n",
      "      )\n",
      "    )\n",
      "  )\n",
      "  (proposal_generator): RPN(\n",
      "    (rpn_head): StandardRPNHead(\n",
      "      (conv): Conv2d(\n",
      "        256, 256, kernel_size=(3, 3), stride=(1, 1), padding=(1, 1)\n",
      "        (activation): ReLU()\n",
      "      )\n",
      "      (objectness_logits): Conv2d(256, 3, kernel_size=(1, 1), stride=(1, 1))\n",
      "      (anchor_deltas): Conv2d(256, 12, kernel_size=(1, 1), stride=(1, 1))\n",
      "    )\n",
      "    (anchor_generator): DefaultAnchorGenerator(\n",
      "      (cell_anchors): BufferList()\n",
      "    )\n",
      "  )\n",
      "  (roi_heads): StandardROIHeads(\n",
      "    (box_pooler): ROIPooler(\n",
      "      (level_poolers): ModuleList(\n",
      "        (0): ROIAlign(output_size=(7, 7), spatial_scale=0.25, sampling_ratio=0, aligned=True)\n",
      "        (1): ROIAlign(output_size=(7, 7), spatial_scale=0.125, sampling_ratio=0, aligned=True)\n",
      "        (2): ROIAlign(output_size=(7, 7), spatial_scale=0.0625, sampling_ratio=0, aligned=True)\n",
      "        (3): ROIAlign(output_size=(7, 7), spatial_scale=0.03125, sampling_ratio=0, aligned=True)\n",
      "      )\n",
      "    )\n",
      "    (box_head): FastRCNNConvFCHead(\n",
      "      (flatten): Flatten(start_dim=1, end_dim=-1)\n",
      "      (fc1): Linear(in_features=12544, out_features=1024, bias=True)\n",
      "      (fc_relu1): ReLU()\n",
      "      (fc2): Linear(in_features=1024, out_features=1024, bias=True)\n",
      "      (fc_relu2): ReLU()\n",
      "    )\n",
      "    (box_predictor): FastRCNNOutputLayers(\n",
      "      (cls_score): Linear(in_features=1024, out_features=2, bias=True)\n",
      "      (bbox_pred): Linear(in_features=1024, out_features=4, bias=True)\n",
      "    )\n",
      "    (mask_pooler): ROIPooler(\n",
      "      (level_poolers): ModuleList(\n",
      "        (0): ROIAlign(output_size=(14, 14), spatial_scale=0.25, sampling_ratio=0, aligned=True)\n",
      "        (1): ROIAlign(output_size=(14, 14), spatial_scale=0.125, sampling_ratio=0, aligned=True)\n",
      "        (2): ROIAlign(output_size=(14, 14), spatial_scale=0.0625, sampling_ratio=0, aligned=True)\n",
      "        (3): ROIAlign(output_size=(14, 14), spatial_scale=0.03125, sampling_ratio=0, aligned=True)\n",
      "      )\n",
      "    )\n",
      "    (mask_head): MaskRCNNConvUpsampleHead(\n",
      "      (mask_fcn1): Conv2d(\n",
      "        256, 256, kernel_size=(3, 3), stride=(1, 1), padding=(1, 1)\n",
      "        (activation): ReLU()\n",
      "      )\n",
      "      (mask_fcn2): Conv2d(\n",
      "        256, 256, kernel_size=(3, 3), stride=(1, 1), padding=(1, 1)\n",
      "        (activation): ReLU()\n",
      "      )\n",
      "      (mask_fcn3): Conv2d(\n",
      "        256, 256, kernel_size=(3, 3), stride=(1, 1), padding=(1, 1)\n",
      "        (activation): ReLU()\n",
      "      )\n",
      "      (mask_fcn4): Conv2d(\n",
      "        256, 256, kernel_size=(3, 3), stride=(1, 1), padding=(1, 1)\n",
      "        (activation): ReLU()\n",
      "      )\n",
      "      (deconv): ConvTranspose2d(256, 256, kernel_size=(2, 2), stride=(2, 2))\n",
      "      (deconv_relu): ReLU()\n",
      "      (predictor): Conv2d(256, 1, kernel_size=(1, 1), stride=(1, 1))\n",
      "    )\n",
      "  )\n",
      ")\n",
      "\u001b[32m[03/30 21:51:05 d2.data.build]: \u001b[0mRemoved 0 images with no usable annotations. 61 images left.\n",
      "\u001b[32m[03/30 21:51:05 d2.data.build]: \u001b[0mDistribution of instances among all 1 categories:\n",
      "\u001b[36m|  category  | #instances   |\n",
      "|:----------:|:-------------|\n",
      "|  balloon   | 255          |\n",
      "|            |              |\u001b[0m\n",
      "\u001b[32m[03/30 21:51:05 d2.data.dataset_mapper]: \u001b[0m[DatasetMapper] Augmentations used in training: [ResizeShortestEdge(short_edge_length=(640, 672, 704, 736, 768, 800), max_size=1333, sample_style='choice'), RandomFlip()]\n",
      "\u001b[32m[03/30 21:51:05 d2.data.build]: \u001b[0mUsing training sampler TrainingSampler\n",
      "\u001b[32m[03/30 21:51:05 d2.data.common]: \u001b[0mSerializing the dataset using: <class 'detectron2.data.common._TorchSerializedList'>\n",
      "\u001b[32m[03/30 21:51:05 d2.data.common]: \u001b[0mSerializing 61 elements to byte tensors and concatenating them all ...\n",
      "\u001b[32m[03/30 21:51:05 d2.data.common]: \u001b[0mSerialized dataset takes 0.17 MiB\n",
      "\u001b[32m[03/30 21:51:05 d2.data.build]: \u001b[0mMaking batched data loader with batch_size=2\n",
      "\u001b[32m[03/30 21:51:05 d2.checkpoint.detection_checkpoint]: \u001b[0m[DetectionCheckpointer] Loading from https://dl.fbaipublicfiles.com/detectron2/COCO-InstanceSegmentation/mask_rcnn_R_50_FPN_3x/137849600/model_final_f10217.pkl ...\n"
     ]
    },
    {
     "name": "stderr",
     "output_type": "stream",
     "text": [
      "Skip loading parameter 'roi_heads.box_predictor.cls_score.weight' to the model due to incompatible shapes: (81, 1024) in the checkpoint but (2, 1024) in the model! You might want to double check if this is expected.\n",
      "Skip loading parameter 'roi_heads.box_predictor.cls_score.bias' to the model due to incompatible shapes: (81,) in the checkpoint but (2,) in the model! You might want to double check if this is expected.\n",
      "Skip loading parameter 'roi_heads.box_predictor.bbox_pred.weight' to the model due to incompatible shapes: (320, 1024) in the checkpoint but (4, 1024) in the model! You might want to double check if this is expected.\n",
      "Skip loading parameter 'roi_heads.box_predictor.bbox_pred.bias' to the model due to incompatible shapes: (320,) in the checkpoint but (4,) in the model! You might want to double check if this is expected.\n",
      "Skip loading parameter 'roi_heads.mask_head.predictor.weight' to the model due to incompatible shapes: (80, 256, 1, 1) in the checkpoint but (1, 256, 1, 1) in the model! You might want to double check if this is expected.\n",
      "Skip loading parameter 'roi_heads.mask_head.predictor.bias' to the model due to incompatible shapes: (80,) in the checkpoint but (1,) in the model! You might want to double check if this is expected.\n",
      "Some model parameters or buffers are not found in the checkpoint:\n",
      "\u001b[34mroi_heads.box_predictor.bbox_pred.{bias, weight}\u001b[0m\n",
      "\u001b[34mroi_heads.box_predictor.cls_score.{bias, weight}\u001b[0m\n",
      "\u001b[34mroi_heads.mask_head.predictor.{bias, weight}\u001b[0m\n"
     ]
    },
    {
     "name": "stdout",
     "output_type": "stream",
     "text": [
      "\u001b[32m[03/30 21:51:05 d2.engine.train_loop]: \u001b[0mStarting training from iteration 0\n",
      "\u001b[32m[03/30 21:51:23 d2.utils.events]: \u001b[0m eta: 0:03:45  iter: 19  total_loss: 2.066  loss_cls: 0.609  loss_box_reg: 0.7057  loss_mask: 0.6825  loss_rpn_cls: 0.04548  loss_rpn_loc: 0.00888    time: 0.9426  last_time: 0.7803  data_time: 0.0120  last_data_time: 0.0097   lr: 1.6068e-05  max_mem: 3317M\n",
      "\u001b[32m[03/30 21:51:41 d2.utils.events]: \u001b[0m eta: 0:03:22  iter: 39  total_loss: 1.814  loss_cls: 0.545  loss_box_reg: 0.6016  loss_mask: 0.5884  loss_rpn_cls: 0.05186  loss_rpn_loc: 0.006793    time: 0.9286  last_time: 0.6333  data_time: 0.0061  last_data_time: 0.0064   lr: 3.2718e-05  max_mem: 3317M\n",
      "\u001b[32m[03/30 21:51:59 d2.utils.events]: \u001b[0m eta: 0:03:09  iter: 59  total_loss: 1.629  loss_cls: 0.448  loss_box_reg: 0.6563  loss_mask: 0.4877  loss_rpn_cls: 0.02797  loss_rpn_loc: 0.008268    time: 0.9580  last_time: 1.2515  data_time: 0.0075  last_data_time: 0.0237   lr: 4.9367e-05  max_mem: 3437M\n",
      "\u001b[32m[03/30 21:52:17 d2.utils.events]: \u001b[0m eta: 0:02:54  iter: 79  total_loss: 1.421  loss_cls: 0.3471  loss_box_reg: 0.6319  loss_mask: 0.3427  loss_rpn_cls: 0.019  loss_rpn_loc: 0.004131    time: 0.9749  last_time: 1.2962  data_time: 0.0071  last_data_time: 0.0193   lr: 6.6017e-05  max_mem: 3437M\n",
      "\u001b[32m[03/30 21:52:39 d2.utils.events]: \u001b[0m eta: 0:02:39  iter: 99  total_loss: 1.411  loss_cls: 0.3304  loss_box_reg: 0.6605  loss_mask: 0.3194  loss_rpn_cls: 0.0231  loss_rpn_loc: 0.009096    time: 1.0025  last_time: 0.6746  data_time: 0.0077  last_data_time: 0.0061   lr: 8.2668e-05  max_mem: 3437M\n",
      "\u001b[32m[03/30 21:52:57 d2.utils.events]: \u001b[0m eta: 0:02:24  iter: 119  total_loss: 1.079  loss_cls: 0.2486  loss_box_reg: 0.5603  loss_mask: 0.2383  loss_rpn_cls: 0.02082  loss_rpn_loc: 0.007433    time: 1.0060  last_time: 0.6887  data_time: 0.0074  last_data_time: 0.0069   lr: 9.9318e-05  max_mem: 3437M\n",
      "\u001b[32m[03/30 21:53:16 d2.utils.events]: \u001b[0m eta: 0:02:10  iter: 139  total_loss: 1.007  loss_cls: 0.1864  loss_box_reg: 0.5815  loss_mask: 0.1716  loss_rpn_cls: 0.01422  loss_rpn_loc: 0.004741    time: 1.0143  last_time: 0.7897  data_time: 0.0072  last_data_time: 0.0116   lr: 0.00011597  max_mem: 3437M\n",
      "\u001b[32m[03/30 21:53:37 d2.utils.events]: \u001b[0m eta: 0:01:54  iter: 159  total_loss: 0.9197  loss_cls: 0.1816  loss_box_reg: 0.5424  loss_mask: 0.1472  loss_rpn_cls: 0.01043  loss_rpn_loc: 0.008201    time: 1.0176  last_time: 0.6434  data_time: 0.0068  last_data_time: 0.0099   lr: 0.00013262  max_mem: 3437M\n",
      "\u001b[32m[03/30 21:53:56 d2.utils.events]: \u001b[0m eta: 0:01:38  iter: 179  total_loss: 0.7543  loss_cls: 0.1176  loss_box_reg: 0.4343  loss_mask: 0.1351  loss_rpn_cls: 0.02144  loss_rpn_loc: 0.007708    time: 1.0253  last_time: 0.8398  data_time: 0.0067  last_data_time: 0.0077   lr: 0.00014927  max_mem: 3441M\n",
      "\u001b[32m[03/30 21:54:15 d2.utils.events]: \u001b[0m eta: 0:01:23  iter: 199  total_loss: 0.5437  loss_cls: 0.09944  loss_box_reg: 0.2733  loss_mask: 0.1059  loss_rpn_cls: 0.02287  loss_rpn_loc: 0.009404    time: 1.0291  last_time: 0.7046  data_time: 0.0065  last_data_time: 0.0059   lr: 0.00016592  max_mem: 3441M\n",
      "\u001b[32m[03/30 21:54:35 d2.utils.events]: \u001b[0m eta: 0:01:06  iter: 219  total_loss: 0.4653  loss_cls: 0.09972  loss_box_reg: 0.221  loss_mask: 0.08243  loss_rpn_cls: 0.01248  loss_rpn_loc: 0.007653    time: 1.0268  last_time: 0.6171  data_time: 0.0072  last_data_time: 0.0007   lr: 0.00018257  max_mem: 3441M\n",
      "\u001b[32m[03/30 21:54:54 d2.utils.events]: \u001b[0m eta: 0:00:49  iter: 239  total_loss: 0.4031  loss_cls: 0.08233  loss_box_reg: 0.1923  loss_mask: 0.09966  loss_rpn_cls: 0.01086  loss_rpn_loc: 0.01072    time: 1.0297  last_time: 1.3494  data_time: 0.0074  last_data_time: 0.0066   lr: 0.00019922  max_mem: 3441M\n",
      "\u001b[32m[03/30 21:55:15 d2.utils.events]: \u001b[0m eta: 0:00:33  iter: 259  total_loss: 0.3983  loss_cls: 0.08061  loss_box_reg: 0.1644  loss_mask: 0.1043  loss_rpn_cls: 0.0147  loss_rpn_loc: 0.01278    time: 1.0330  last_time: 0.7835  data_time: 0.0088  last_data_time: 0.0129   lr: 0.00021587  max_mem: 3441M\n",
      "\u001b[32m[03/30 21:55:33 d2.utils.events]: \u001b[0m eta: 0:00:16  iter: 279  total_loss: 0.3249  loss_cls: 0.07198  loss_box_reg: 0.1645  loss_mask: 0.07856  loss_rpn_cls: 0.009692  loss_rpn_loc: 0.005209    time: 1.0308  last_time: 0.8419  data_time: 0.0074  last_data_time: 0.0063   lr: 0.00023252  max_mem: 3441M\n",
      "\u001b[32m[03/30 21:55:52 d2.utils.events]: \u001b[0m eta: 0:00:00  iter: 299  total_loss: 0.3246  loss_cls: 0.07218  loss_box_reg: 0.1621  loss_mask: 0.07963  loss_rpn_cls: 0.006662  loss_rpn_loc: 0.006244    time: 1.0313  last_time: 0.8328  data_time: 0.0069  last_data_time: 0.0053   lr: 0.00024917  max_mem: 3441M\n",
      "\u001b[32m[03/30 21:55:52 d2.engine.hooks]: \u001b[0mOverall training speed: 298 iterations in 0:05:07 (1.0313 s / it)\n",
      "\u001b[32m[03/30 21:55:52 d2.engine.hooks]: \u001b[0mTotal training time: 0:05:08 (0:00:00 on hooks)\n"
     ]
    }
   ],
   "source": [
    "from detectron2.engine import DefaultTrainer\n",
    "\n",
    "cfg = get_cfg()\n",
    "cfg.merge_from_file(model_zoo.get_config_file(\"COCO-InstanceSegmentation/mask_rcnn_R_50_FPN_3x.yaml\"))\n",
    "cfg.DATASETS.TRAIN = (\"balloon_train\",)\n",
    "cfg.DATASETS.TEST = ()\n",
    "cfg.DATALOADER.NUM_WORKERS = 2\n",
    "cfg.MODEL.WEIGHTS = model_zoo.get_checkpoint_url(\"COCO-InstanceSegmentation/mask_rcnn_R_50_FPN_3x.yaml\")  # Let training initialize from model zoo\n",
    "cfg.SOLVER.IMS_PER_BATCH = 2  # This is the real \"batch size\" commonly known to deep learning people\n",
    "cfg.SOLVER.BASE_LR = 0.00025  # pick a good LR\n",
    "cfg.SOLVER.MAX_ITER = 300    # 300 iterations seems good enough for this toy dataset; you will need to train longer for a practical dataset\n",
    "cfg.SOLVER.STEPS = []        # do not decay learning rate\n",
    "cfg.MODEL.ROI_HEADS.BATCH_SIZE_PER_IMAGE = 128   # The \"RoIHead batch size\". 128 is faster, and good enough for this toy dataset (default: 512)\n",
    "cfg.MODEL.ROI_HEADS.NUM_CLASSES = 1  # only has one class (ballon). (see https://detectron2.readthedocs.io/tutorials/datasets.html#update-the-config-for-new-datasets)\n",
    "# NOTE: this config means the number of classes, but a few popular unofficial tutorials incorrect uses num_classes+1 here.\n",
    "\n",
    "os.makedirs(cfg.OUTPUT_DIR, exist_ok=True)\n",
    "trainer = DefaultTrainer(cfg) \n",
    "trainer.resume_or_load(resume=False)\n",
    "trainer.train()"
   ]
  },
  {
   "cell_type": "code",
   "execution_count": 28,
   "metadata": {},
   "outputs": [
    {
     "name": "stdout",
     "output_type": "stream",
     "text": [
      "The tensorboard extension is already loaded. To reload it, use:\n",
      "  %reload_ext tensorboard\n"
     ]
    },
    {
     "data": {
      "text/plain": [
       "Reusing TensorBoard on port 6006 (pid 20140), started 0:01:13 ago. (Use '!kill 20140' to kill it.)"
      ]
     },
     "metadata": {},
     "output_type": "display_data"
    },
    {
     "data": {
      "text/html": [
       "\n",
       "      <iframe id=\"tensorboard-frame-e88ac37226893d59\" width=\"100%\" height=\"800\" frameborder=\"0\">\n",
       "      </iframe>\n",
       "      <script>\n",
       "        (function() {\n",
       "          const frame = document.getElementById(\"tensorboard-frame-e88ac37226893d59\");\n",
       "          const url = new URL(\"http://localhost\");\n",
       "          const port = 6006;\n",
       "          if (port) {\n",
       "            url.port = port;\n",
       "          }\n",
       "          frame.src = url;\n",
       "        })();\n",
       "      </script>\n",
       "    "
      ],
      "text/plain": [
       "<IPython.core.display.HTML object>"
      ]
     },
     "metadata": {},
     "output_type": "display_data"
    }
   ],
   "source": [
    "# Look at training curves in tensorboard:\n",
    "%load_ext tensorboard\n",
    "%tensorboard --logdir output"
   ]
  },
  {
   "cell_type": "markdown",
   "metadata": {},
   "source": [
    "Inference & evaluation using the trained model\n",
    "Now, let's run inference with the trained model on the balloon validation dataset. First, let's create a predictor using the model we just trained:"
   ]
  },
  {
   "cell_type": "markdown",
   "metadata": {},
   "source": [
    "Other types of builtin models\n",
    "We showcase simple demos of other types of models below:"
   ]
  },
  {
   "cell_type": "markdown",
   "metadata": {},
   "source": [
    "Run panoptic segmentation on a video"
   ]
  },
  {
   "cell_type": "code",
   "execution_count": 29,
   "metadata": {},
   "outputs": [
    {
     "data": {
      "image/jpeg": "[encoded data removed]",
      "text/html": [
       "\n",
       "        <iframe\n",
       "            width=\"500\"\n",
       "            height=\"300\"\n",
       "            src=\"https://www.youtube.com/embed/ll8TgCZ0plk\"\n",
       "            frameborder=\"0\"\n",
       "            allowfullscreen\n",
       "            \n",
       "        ></iframe>\n",
       "        "
      ],
      "text/plain": [
       "<IPython.lib.display.YouTubeVideo at 0x7fc9b3c7ef60>"
      ]
     },
     "metadata": {},
     "output_type": "display_data"
    }
   ],
   "source": [
    "# This is the video we're going to process\n",
    "from IPython.display import YouTubeVideo, display\n",
    "video = YouTubeVideo(\"ll8TgCZ0plk\", width=500)\n",
    "display(video)"
   ]
  },
  {
   "cell_type": "code",
   "execution_count": 32,
   "metadata": {},
   "outputs": [
    {
     "name": "stdout",
     "output_type": "stream",
     "text": [
      "Requirement already satisfied: youtube-dl in ./detectron2_env/lib/python3.12/site-packages (2021.12.17)\n",
      "[youtube] ll8TgCZ0plk: Downloading webpage\n",
      "\u001b[0;31mERROR:\u001b[0m Unable to extract \u001b[0;34muploader id\u001b[0m; please report this issue on https://yt-dl.org/bug . Make sure you are using the latest version; see  https://yt-dl.org/update  on how to update. Be sure to call youtube-dl with the --verbose flag and include its complete output.\n",
      "/bin/bash: line 1: ffmpeg: command not found\n"
     ]
    }
   ],
   "source": [
    "# Install dependencies, download the video, and crop 5 seconds for processing\n",
    "!pip install youtube-dl\n",
    "!youtube-dl https://www.youtube.com/watch?v=ll8TgCZ0plk -f 22 -o video.mp4\n",
    "!ffmpeg -i video.mp4 -t 00:00:06 -c:v copy video-clip.mp4"
   ]
  },
  {
   "cell_type": "markdown",
   "metadata": {},
   "source": [
    "Alternativa, dada pelo claude"
   ]
  },
  {
   "cell_type": "code",
   "execution_count": 37,
   "metadata": {},
   "outputs": [
    {
     "name": "stdout",
     "output_type": "stream",
     "text": [
      "Requirement already satisfied: yt-dlp in ./detectron2_env/lib/python3.12/site-packages (2025.3.27)\n",
      "[youtube] Extracting URL: https://www.youtube.com/watch?v=ll8TgCZ0plk\n",
      "[youtube] ll8TgCZ0plk: Downloading webpage\n",
      "[youtube] ll8TgCZ0plk: Downloading tv client config\n",
      "[youtube] ll8TgCZ0plk: Downloading player 20830619\n",
      "[youtube] ll8TgCZ0plk: Downloading tv player API JSON\n",
      "[youtube] ll8TgCZ0plk: Downloading ios player API JSON\n",
      "[youtube] ll8TgCZ0plk: Downloading m3u8 information\n",
      "\u001b[0;31mERROR:\u001b[0m [youtube] ll8TgCZ0plk: Requested format is not available. Use --list-formats for a list of available formats\n",
      "ffmpeg version 6.1.1-3ubuntu5 Copyright (c) 2000-2023 the FFmpeg developers\n",
      "  built with gcc 13 (Ubuntu 13.2.0-23ubuntu3)\n",
      "  configuration: --prefix=/usr --extra-version=3ubuntu5 --toolchain=hardened --libdir=/usr/lib/x86_64-linux-gnu --incdir=/usr/include/x86_64-linux-gnu --arch=amd64 --enable-gpl --disable-stripping --disable-omx --enable-gnutls --enable-libaom --enable-libass --enable-libbs2b --enable-libcaca --enable-libcdio --enable-libcodec2 --enable-libdav1d --enable-libflite --enable-libfontconfig --enable-libfreetype --enable-libfribidi --enable-libglslang --enable-libgme --enable-libgsm --enable-libharfbuzz --enable-libmp3lame --enable-libmysofa --enable-libopenjpeg --enable-libopenmpt --enable-libopus --enable-librubberband --enable-libshine --enable-libsnappy --enable-libsoxr --enable-libspeex --enable-libtheora --enable-libtwolame --enable-libvidstab --enable-libvorbis --enable-libvpx --enable-libwebp --enable-libx265 --enable-libxml2 --enable-libxvid --enable-libzimg --enable-openal --enable-opencl --enable-opengl --disable-sndio --enable-libvpl --disable-libmfx --enable-libdc1394 --enable-libdrm --enable-libiec61883 --enable-chromaprint --enable-frei0r --enable-ladspa --enable-libbluray --enable-libjack --enable-libpulse --enable-librabbitmq --enable-librist --enable-libsrt --enable-libssh --enable-libsvtav1 --enable-libx264 --enable-libzmq --enable-libzvbi --enable-lv2 --enable-sdl2 --enable-libplacebo --enable-librav1e --enable-pocketsphinx --enable-librsvg --enable-libjxl --enable-shared\n",
      "  libavutil      58. 29.100 / 58. 29.100\n",
      "  libavcodec     60. 31.102 / 60. 31.102\n",
      "  libavformat    60. 16.100 / 60. 16.100\n",
      "  libavdevice    60.  3.100 / 60.  3.100\n",
      "  libavfilter     9. 12.100 /  9. 12.100\n",
      "  libswscale      7.  5.100 /  7.  5.100\n",
      "  libswresample   4. 12.100 /  4. 12.100\n",
      "  libpostproc    57.  3.100 / 57.  3.100\n",
      "\u001b[0;35m[in#0 @ 0x55ff35c19300] \u001b[0m\u001b[1;31mError opening input: No such file or directory\n",
      "\u001b[0m\u001b[1;31mError opening input file video.mp4.\n",
      "\u001b[0m\u001b[4;31mError opening input files: No such file or directory\n",
      "\u001b[0m"
     ]
    }
   ],
   "source": [
    "# Install yt-dlp (more modern alternative to youtube-dl) and ffmpeg\n",
    "!pip install yt-dlp\n",
    "#--> sudo apt-get update && sudo apt-get install -y ffmpeg\n",
    "\n",
    "# Download the video using yt-dlp\n",
    "!yt-dlp https://www.youtube.com/watch?v=ll8TgCZ0plk -f 22 -o video.mp4\n",
    "\n",
    "# Crop 6 seconds from the video\n",
    "!ffmpeg -i video.mp4 -t 00:00:06 -c:v copy video-clip.mp4"
   ]
  },
  {
   "cell_type": "code",
   "execution_count": 34,
   "metadata": {},
   "outputs": [
    {
     "name": "stdout",
     "output_type": "stream",
     "text": [
      "Cloning into 'detectron2'...\n",
      "remote: Enumerating objects: 15837, done.\u001b[K\n",
      "remote: Counting objects: 100% (66/66), done.\u001b[K\n",
      "remote: Compressing objects: 100% (54/54), done.\u001b[K\n",
      "remote: Total 15837 (delta 30), reused 12 (delta 12), pack-reused 15771 (from 2)\u001b[K\n",
      "Receiving objects: 100% (15837/15837), 6.40 MiB | 751.00 KiB/s, done.\n",
      "Resolving deltas: 100% (11532/11532), done.\n"
     ]
    },
    {
     "ename": "ModuleNotFoundError",
     "evalue": "No module named 'vision'",
     "output_type": "error",
     "traceback": [
      "\u001b[31m---------------------------------------------------------------------------\u001b[39m",
      "\u001b[31mModuleNotFoundError\u001b[39m                       Traceback (most recent call last)",
      "\u001b[36mFile \u001b[39m\u001b[32m~/detectron2/demo/demo.py:17\u001b[39m\n\u001b[32m     14\u001b[39m \u001b[38;5;28;01mfrom\u001b[39;00m\u001b[38;5;250m \u001b[39m\u001b[34;01mdetectron2\u001b[39;00m\u001b[34;01m.\u001b[39;00m\u001b[34;01mdata\u001b[39;00m\u001b[34;01m.\u001b[39;00m\u001b[34;01mdetection_utils\u001b[39;00m\u001b[38;5;250m \u001b[39m\u001b[38;5;28;01mimport\u001b[39;00m read_image\n\u001b[32m     15\u001b[39m \u001b[38;5;28;01mfrom\u001b[39;00m\u001b[38;5;250m \u001b[39m\u001b[34;01mdetectron2\u001b[39;00m\u001b[34;01m.\u001b[39;00m\u001b[34;01mutils\u001b[39;00m\u001b[34;01m.\u001b[39;00m\u001b[34;01mlogger\u001b[39;00m\u001b[38;5;250m \u001b[39m\u001b[38;5;28;01mimport\u001b[39;00m setup_logger\n\u001b[32m---> \u001b[39m\u001b[32m17\u001b[39m \u001b[38;5;28;01mfrom\u001b[39;00m\u001b[38;5;250m \u001b[39m\u001b[34;01mvision\u001b[39;00m\u001b[34;01m.\u001b[39;00m\u001b[34;01mfair\u001b[39;00m\u001b[34;01m.\u001b[39;00m\u001b[34;01mdetectron2\u001b[39;00m\u001b[34;01m.\u001b[39;00m\u001b[34;01mdemo\u001b[39;00m\u001b[34;01m.\u001b[39;00m\u001b[34;01mpredictor\u001b[39;00m\u001b[38;5;250m \u001b[39m\u001b[38;5;28;01mimport\u001b[39;00m VisualizationDemo\n\u001b[32m     19\u001b[39m \u001b[38;5;66;03m# constants\u001b[39;00m\n\u001b[32m     20\u001b[39m WINDOW_NAME = \u001b[33m\"\u001b[39m\u001b[33mCOCO detections\u001b[39m\u001b[33m\"\u001b[39m\n",
      "\u001b[31mModuleNotFoundError\u001b[39m: No module named 'vision'"
     ]
    }
   ],
   "source": [
    "# Run frame-by-frame inference demo on this video (takes 3-4 minutes) with the \"demo.py\" tool we provided in the repo.\n",
    "!git clone https://github.com/facebookresearch/detectron2\n",
    "# Note: this is currently BROKEN due to missing codec. See https://github.com/facebookresearch/detectron2/issues/2901 for workaround.\n",
    "%run detectron2/demo/demo.py --config-file detectron2/configs/COCO-PanopticSegmentation/panoptic_fpn_R_101_3x.yaml --video-input video-clip.mp4 --confidence-threshold 0.6 --output video-output.mkv \\\n",
    "  --opts MODEL.WEIGHTS detectron2://COCO-PanopticSegmentation/panoptic_fpn_R_101_3x/139514519/model_final_cafdb1.pkl"
   ]
  },
  {
   "cell_type": "code",
   "execution_count": null,
   "metadata": {},
   "outputs": [
    {
     "ename": "ModuleNotFoundError",
     "evalue": "No module named 'google.colab'",
     "output_type": "error",
     "traceback": [
      "\u001b[31m---------------------------------------------------------------------------\u001b[39m",
      "\u001b[31mModuleNotFoundError\u001b[39m                       Traceback (most recent call last)",
      "\u001b[36mCell\u001b[39m\u001b[36m \u001b[39m\u001b[32mIn[35]\u001b[39m\u001b[32m, line 2\u001b[39m\n\u001b[32m      1\u001b[39m \u001b[38;5;66;03m# Download the results\u001b[39;00m\n\u001b[32m----> \u001b[39m\u001b[32m2\u001b[39m \u001b[38;5;28;01mfrom\u001b[39;00m\u001b[38;5;250m \u001b[39m\u001b[34;01mgoogle\u001b[39;00m\u001b[34;01m.\u001b[39;00m\u001b[34;01mcolab\u001b[39;00m\u001b[38;5;250m \u001b[39m\u001b[38;5;28;01mimport\u001b[39;00m files\n\u001b[32m      3\u001b[39m files.download(\u001b[33m'\u001b[39m\u001b[33mvideo-output.mkv\u001b[39m\u001b[33m'\u001b[39m)\n",
      "\u001b[31mModuleNotFoundError\u001b[39m: No module named 'google.colab'"
     ]
    }
   ],
   "source": [
    "# Download the results\n",
    "#from google.colab import files\n",
    "#files.download('video-output.mkv')"
   ]
  },
  {
   "cell_type": "code",
   "execution_count": 36,
   "metadata": {},
   "outputs": [
    {
     "name": "stdout",
     "output_type": "stream",
     "text": [
      "Video saved to: /home/pauloarb/video-output.mkv\n",
      "Could not read frame 0 from video-output.mkv\n"
     ]
    }
   ],
   "source": [
    "# Option 1: Display video file path\n",
    "import os\n",
    "output_file = 'video-output.mkv'\n",
    "print(f\"Video saved to: {os.path.abspath(output_file)}\")\n",
    "\n",
    "# Option 2: Display a video frame from the output to verify it worked\n",
    "import cv2\n",
    "import matplotlib.pyplot as plt\n",
    "\n",
    "def display_video_frame(video_path, frame_number=0):\n",
    "    \"\"\"Display a specific frame from a video file\"\"\"\n",
    "    cap = cv2.VideoCapture(video_path)\n",
    "    cap.set(cv2.CAP_PROP_POS_FRAMES, frame_number)\n",
    "    ret, frame = cap.read()\n",
    "    cap.release()\n",
    "    \n",
    "    if ret:\n",
    "        plt.figure(figsize=(10, 6))\n",
    "        plt.imshow(cv2.cvtColor(frame, cv2.COLOR_BGR2RGB))\n",
    "        plt.axis('off')\n",
    "        plt.title(f\"Frame {frame_number} from {video_path}\")\n",
    "        plt.show()\n",
    "    else:\n",
    "        print(f\"Could not read frame {frame_number} from {video_path}\")\n",
    "\n",
    "# Display the first frame of the output video\n",
    "display_video_frame('video-output.mkv')"
   ]
  }
 ],
 "metadata": {
  "kernelspec": {
   "display_name": "Python (phpy)",
   "language": "python",
   "name": "phpy"
  },
  "language_info": {
   "codemirror_mode": {
    "name": "ipython",
    "version": 3
   },
   "file_extension": ".py",
   "mimetype": "text/x-python",
   "name": "python",
   "nbconvert_exporter": "python",
   "pygments_lexer": "ipython3",
   "version": "3.10.12"
  }
 },
 "nbformat": 4,
 "nbformat_minor": 2
}
